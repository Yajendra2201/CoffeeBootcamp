{
  "nbformat": 4,
  "nbformat_minor": 0,
  "metadata": {
    "colab": {
      "name": "Sets_Data_Structures.ipynb",
      "provenance": [],
      "collapsed_sections": []
    },
    "kernelspec": {
      "name": "python3",
      "display_name": "Python 3"
    },
    "language_info": {
      "name": "python"
    }
  },
  "cells": [
    {
      "cell_type": "markdown",
      "source": [
        "1. Write a Python program to create a set.\n"
      ],
      "metadata": {
        "id": "-FkiPM2a9Jd7"
      }
    },
    {
      "cell_type": "code",
      "source": [
        "a = set(input().split())\n",
        "print(a)"
      ],
      "metadata": {
        "colab": {
          "base_uri": "https://localhost:8080/"
        },
        "id": "AcZp9sO39bBL",
        "outputId": "2e1506f0-aa0c-4fd4-f5ad-27b232f9848f"
      },
      "execution_count": 1,
      "outputs": [
        {
          "output_type": "stream",
          "name": "stdout",
          "text": [
            "1 2 3 4 5 6\n",
            "{'6', '1', '3', '5', '2', '4'}\n"
          ]
        }
      ]
    },
    {
      "cell_type": "markdown",
      "source": [
        "2. Write a Python program to iteration over sets."
      ],
      "metadata": {
        "id": "5s_ZP_Ur99mj"
      }
    },
    {
      "cell_type": "code",
      "source": [
        "a = set(input().split())\n",
        "for i in a:\n",
        "  print(i)"
      ],
      "metadata": {
        "colab": {
          "base_uri": "https://localhost:8080/"
        },
        "id": "zw58XXKN9_xZ",
        "outputId": "bc93d9d6-28d4-4e0c-e547-4c049838a375"
      },
      "execution_count": 2,
      "outputs": [
        {
          "output_type": "stream",
          "name": "stdout",
          "text": [
            "1 4 58 9 2 \n",
            "9\n",
            "1\n",
            "58\n",
            "2\n",
            "4\n"
          ]
        }
      ]
    },
    {
      "cell_type": "markdown",
      "source": [
        "3. Write a Python program to add member(s) in a set"
      ],
      "metadata": {
        "id": "HnJsi1gD-H4w"
      }
    },
    {
      "cell_type": "code",
      "source": [
        "a = set()\n",
        "b = [1,2,3,\"Hello\",True,6]\n",
        "for i in b:\n",
        "  a.add(i)\n",
        "print(a)  "
      ],
      "metadata": {
        "colab": {
          "base_uri": "https://localhost:8080/"
        },
        "id": "yFZb0FYy-Kiv",
        "outputId": "cdc7f9a8-4804-4d9c-9d9b-5046ae900736"
      },
      "execution_count": 3,
      "outputs": [
        {
          "output_type": "stream",
          "name": "stdout",
          "text": [
            "{1, 2, 3, 6, 'Hello'}\n"
          ]
        }
      ]
    },
    {
      "cell_type": "markdown",
      "source": [
        "4. Write a Python program to remove item(s) from set\n"
      ],
      "metadata": {
        "id": "y6_8TMe9-YIj"
      }
    },
    {
      "cell_type": "code",
      "source": [
        "a = set(map(int,input().split()))\n",
        "b = int(input(\"Enter number:-\"))\n",
        "a.remove(b)\n",
        "print(a)    "
      ],
      "metadata": {
        "colab": {
          "base_uri": "https://localhost:8080/"
        },
        "id": "rBA_NNrD-aR-",
        "outputId": "66468c23-8c44-4c08-d23d-366fa2f17e41"
      },
      "execution_count": 7,
      "outputs": [
        {
          "output_type": "stream",
          "name": "stdout",
          "text": [
            "1 2 3 4 5 6 7 8\n",
            "Enter number7\n",
            "{1, 2, 3, 4, 5, 6, 8}\n"
          ]
        }
      ]
    },
    {
      "cell_type": "markdown",
      "source": [
        "5. Write a Python program to remove an item from a set if it is present in the set.\n"
      ],
      "metadata": {
        "id": "HEDpWrsZ_Ibv"
      }
    },
    {
      "cell_type": "code",
      "source": [
        "a = set(map(int,input().split()))\n",
        "b = int(input(\"Enter number:-\"))\n",
        "if b in a:\n",
        "   a.remove(b)\n",
        "print(a)   "
      ],
      "metadata": {
        "colab": {
          "base_uri": "https://localhost:8080/"
        },
        "id": "YxwIGzq__NNf",
        "outputId": "b4216b8e-97ea-46ae-f8e2-7177afbc9065"
      },
      "execution_count": 8,
      "outputs": [
        {
          "output_type": "stream",
          "name": "stdout",
          "text": [
            "1 2 3 45 6\n",
            "Enter number:-3\n",
            "{1, 2, 6, 45}\n"
          ]
        }
      ]
    },
    {
      "cell_type": "markdown",
      "source": [
        "6. Write a Python program to create an intersection of sets.\n"
      ],
      "metadata": {
        "id": "JUnwGBLJ_g9A"
      }
    },
    {
      "cell_type": "code",
      "source": [
        "a = set(map(int,input().split()))\n",
        "b = set(map(int,input().split()))\n",
        "c = a.intersection(b)\n",
        "print(c)"
      ],
      "metadata": {
        "colab": {
          "base_uri": "https://localhost:8080/"
        },
        "id": "AUifr_Mb_jjL",
        "outputId": "7d5f453d-45bd-46d9-cffd-0f20776c0abd"
      },
      "execution_count": 9,
      "outputs": [
        {
          "output_type": "stream",
          "name": "stdout",
          "text": [
            "1 2 3 4 5 6 7\n",
            "1 6 7 4 5\n",
            "{1, 4, 5, 6, 7}\n"
          ]
        }
      ]
    },
    {
      "cell_type": "markdown",
      "source": [
        "7. Write a Python program to create a union of sets."
      ],
      "metadata": {
        "id": "JtgzCATE_2jW"
      }
    },
    {
      "cell_type": "code",
      "source": [
        "a = set(input().split())\n",
        "b = set(input().split())\n",
        "c = a.union(b)\n",
        "print(c)\n",
        "#or\n",
        "\n",
        "x = list(a)\n",
        "y = list(b)\n",
        "for i in x:\n",
        "  if i in y:\n",
        "    x.remove(i)\n",
        "print(\"Union is \",set(x+y))    "
      ],
      "metadata": {
        "colab": {
          "base_uri": "https://localhost:8080/"
        },
        "id": "OXAI5pp7_4KE",
        "outputId": "ca941e20-3bb6-4ab0-d200-76ea202b68e7"
      },
      "execution_count": 13,
      "outputs": [
        {
          "output_type": "stream",
          "name": "stdout",
          "text": [
            "1 2 3 4\n",
            "1 2 4 6\n",
            "{'6', '1', '3', '2', '4'}\n",
            "Union is  {'6', '1', '3', '2', '4'}\n"
          ]
        }
      ]
    },
    {
      "cell_type": "markdown",
      "source": [
        "8. Write a Python program to create set difference.\n"
      ],
      "metadata": {
        "id": "0gIREZRoAw8c"
      }
    },
    {
      "cell_type": "code",
      "source": [
        "a = set(input().split())\n",
        "b = set(input().split())\n",
        "c = a.difference(b)\n",
        "print(c)\n",
        "#Other way is to convert the set into list like the previous one"
      ],
      "metadata": {
        "colab": {
          "base_uri": "https://localhost:8080/"
        },
        "id": "T3U3jQtOB7Ne",
        "outputId": "50ed23a6-0bb6-4ba8-feb5-9bd3125fd431"
      },
      "execution_count": 14,
      "outputs": [
        {
          "output_type": "stream",
          "name": "stdout",
          "text": [
            "1 2 3 True Hello 3 4\n",
            "3 6 True False\n",
            "{'1', '2', '4', 'Hello'}\n"
          ]
        }
      ]
    },
    {
      "cell_type": "markdown",
      "source": [
        "9. Write a Python program to create a symmetric difference.\n"
      ],
      "metadata": {
        "id": "t7CJM2nBCO2Q"
      }
    },
    {
      "cell_type": "code",
      "source": [
        "a = set(input().split())\n",
        "b = set(input().split())\n",
        "c = a.symmetric_difference(b)\n",
        "print(c)"
      ],
      "metadata": {
        "colab": {
          "base_uri": "https://localhost:8080/"
        },
        "id": "XALhpQNPCSHK",
        "outputId": "038e168a-0a5b-460f-a202-9fe81bb04861"
      },
      "execution_count": 15,
      "outputs": [
        {
          "output_type": "stream",
          "name": "stdout",
          "text": [
            "1 2 3 4 5 6 H j l l k n i\n",
            "e ba cd e 4 5 7 8True\n",
            "{'1', '7', 'e', '2', 'H', 'ba', 'l', 'i', '8True', '6', 'k', '3', 'j', 'n', 'cd'}\n"
          ]
        }
      ]
    },
    {
      "cell_type": "markdown",
      "source": [
        "10. Write a Python program to clear a set.\n"
      ],
      "metadata": {
        "id": "f6H1u0UJCfvK"
      }
    },
    {
      "cell_type": "code",
      "source": [
        "a = set(input().split())\n",
        "print(a.clear())"
      ],
      "metadata": {
        "colab": {
          "base_uri": "https://localhost:8080/"
        },
        "id": "MvDlmlFsCiFM",
        "outputId": "57f6cde0-88d0-489e-9081-6383baf176a2"
      },
      "execution_count": 16,
      "outputs": [
        {
          "output_type": "stream",
          "name": "stdout",
          "text": [
            "1 2 3 45\n",
            "None\n"
          ]
        }
      ]
    },
    {
      "cell_type": "markdown",
      "source": [
        "11. Write a Python program to use of frozensets"
      ],
      "metadata": {
        "id": "4obbp--0Cp_h"
      }
    },
    {
      "cell_type": "code",
      "source": [
        "a = set(input().split())\n",
        "froz = frozenset(a)\n",
        "print(froz)\n",
        "froz.add(3)"
      ],
      "metadata": {
        "colab": {
          "base_uri": "https://localhost:8080/",
          "height": 235
        },
        "id": "kHH11ZLdCrxq",
        "outputId": "37c6bf11-c770-444c-b966-1f96d369efee"
      },
      "execution_count": 17,
      "outputs": [
        {
          "output_type": "stream",
          "name": "stdout",
          "text": [
            "1 2 3 4 5 6\n",
            "frozenset({'1', '3', '5', '2', '4', '6'})\n"
          ]
        },
        {
          "output_type": "error",
          "ename": "AttributeError",
          "evalue": "ignored",
          "traceback": [
            "\u001b[0;31m---------------------------------------------------------------------------\u001b[0m",
            "\u001b[0;31mAttributeError\u001b[0m                            Traceback (most recent call last)",
            "\u001b[0;32m<ipython-input-17-9077894db70b>\u001b[0m in \u001b[0;36m<module>\u001b[0;34m()\u001b[0m\n\u001b[1;32m      2\u001b[0m \u001b[0mfroz\u001b[0m \u001b[0;34m=\u001b[0m \u001b[0mfrozenset\u001b[0m\u001b[0;34m(\u001b[0m\u001b[0ma\u001b[0m\u001b[0;34m)\u001b[0m\u001b[0;34m\u001b[0m\u001b[0;34m\u001b[0m\u001b[0m\n\u001b[1;32m      3\u001b[0m \u001b[0mprint\u001b[0m\u001b[0;34m(\u001b[0m\u001b[0mfroz\u001b[0m\u001b[0;34m)\u001b[0m\u001b[0;34m\u001b[0m\u001b[0;34m\u001b[0m\u001b[0m\n\u001b[0;32m----> 4\u001b[0;31m \u001b[0mfroz\u001b[0m\u001b[0;34m.\u001b[0m\u001b[0madd\u001b[0m\u001b[0;34m(\u001b[0m\u001b[0;36m3\u001b[0m\u001b[0;34m)\u001b[0m\u001b[0;34m\u001b[0m\u001b[0;34m\u001b[0m\u001b[0m\n\u001b[0m",
            "\u001b[0;31mAttributeError\u001b[0m: 'frozenset' object has no attribute 'add'"
          ]
        }
      ]
    },
    {
      "cell_type": "markdown",
      "source": [
        "12. Write a Python program to find maximum and the minimum value in a set."
      ],
      "metadata": {
        "id": "bgRvFOt2DFt4"
      }
    },
    {
      "cell_type": "code",
      "source": [
        "a = set(map(int,input().split()))\n",
        "print(min(a))\n",
        "print(max(a))\n",
        "#or\n",
        "l = list(a)\n",
        "l.sort()\n",
        "print(l[0],l[-1])\n"
      ],
      "metadata": {
        "colab": {
          "base_uri": "https://localhost:8080/"
        },
        "id": "nMeavU6QDIBT",
        "outputId": "cad464e7-c49b-4791-baf9-c3fd3c4c9798"
      },
      "execution_count": 19,
      "outputs": [
        {
          "output_type": "stream",
          "name": "stdout",
          "text": [
            "1 4 5 9 8 7 4 5 6\n",
            "1\n",
            "9\n",
            "1 9\n"
          ]
        }
      ]
    }
  ]
}