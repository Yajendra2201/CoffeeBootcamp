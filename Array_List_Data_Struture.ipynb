{
  "nbformat": 4,
  "nbformat_minor": 0,
  "metadata": {
    "colab": {
      "name": "Array/List_Data_Struture.ipynb",
      "provenance": [],
      "collapsed_sections": []
    },
    "kernelspec": {
      "name": "python3",
      "display_name": "Python 3"
    },
    "language_info": {
      "name": "python"
    }
  },
  "cells": [
    {
      "cell_type": "markdown",
      "source": [
        "1. Write a Python program to create an array of 5 integers and display the array items.\n",
        "Access individual element through indexes.\n"
      ],
      "metadata": {
        "id": "NhBcUvWtQr_e"
      }
    },
    {
      "cell_type": "code",
      "source": [
        "l = list(map(int,input().split()))\n",
        "print(l)"
      ],
      "metadata": {
        "colab": {
          "base_uri": "https://localhost:8080/"
        },
        "id": "eh_iQporQwF5",
        "outputId": "f4d0dfe1-1d85-42d1-b0e7-bc7ab0549c8a"
      },
      "execution_count": 3,
      "outputs": [
        {
          "output_type": "stream",
          "name": "stdout",
          "text": [
            "5 5 5 55\n",
            "[5, 5, 5, 55]\n"
          ]
        }
      ]
    },
    {
      "cell_type": "markdown",
      "source": [
        "2. Write a Python program to reverse the order of the items in the array"
      ],
      "metadata": {
        "id": "-BWSJm-yREum"
      }
    },
    {
      "cell_type": "code",
      "source": [
        "a = list(map(int,input().split()))\n",
        "print(a[::-1])"
      ],
      "metadata": {
        "colab": {
          "base_uri": "https://localhost:8080/"
        },
        "id": "APshDvbxRH5H",
        "outputId": "9dfbce21-1939-4d20-9f62-4746d6ff5132"
      },
      "execution_count": 4,
      "outputs": [
        {
          "output_type": "stream",
          "name": "stdout",
          "text": [
            "1 2 3 4 5 6\n",
            "[6, 5, 4, 3, 2, 1]\n"
          ]
        }
      ]
    },
    {
      "cell_type": "markdown",
      "source": [
        "3. Write a Python program to get the number of occurrences of a specified element in an\n",
        "array."
      ],
      "metadata": {
        "id": "6RsCJCjLRSw4"
      }
    },
    {
      "cell_type": "code",
      "source": [
        "a = list(map(int,input().split()))\n",
        "b = int(input(\"Enter the number whose occurence is to be printed:-\"))\n",
        "count = 0\n",
        "for i in a:\n",
        "    if i==b:\n",
        "      count+=1\n",
        "print(count)      "
      ],
      "metadata": {
        "colab": {
          "base_uri": "https://localhost:8080/"
        },
        "id": "oGNB7UuARadg",
        "outputId": "497c1e5b-1d89-4e93-fe22-7ddcb540b24c"
      },
      "execution_count": 5,
      "outputs": [
        {
          "output_type": "stream",
          "name": "stdout",
          "text": [
            "1 1 1 2 2 1 2 4 2 1\n",
            "Enter the number whose occurence is to be printed:-1\n",
            "5\n"
          ]
        }
      ]
    },
    {
      "cell_type": "markdown",
      "source": [
        "4. Write a Python program to remove the first occurrence of a specified element from an\n",
        "array.\n"
      ],
      "metadata": {
        "id": "xXh8M8ZTRuvf"
      }
    },
    {
      "cell_type": "code",
      "source": [
        "a = list(map(int,input().split()))\n",
        "b = int(input(\"Enter the number:-\"))\n",
        "for i in a:\n",
        "  if i==b:\n",
        "    a.remove(i)\n",
        "    break\n",
        "print(a)    "
      ],
      "metadata": {
        "colab": {
          "base_uri": "https://localhost:8080/"
        },
        "id": "AxU18pvbR0Iz",
        "outputId": "bc475dff-36ac-411b-cfe1-0eb31a4414dc"
      },
      "execution_count": 6,
      "outputs": [
        {
          "output_type": "stream",
          "name": "stdout",
          "text": [
            "1 1 2 3 4 5 6\n",
            "Enter the number:-1\n",
            "[1, 2, 3, 4, 5, 6]\n"
          ]
        }
      ]
    },
    {
      "cell_type": "markdown",
      "source": [
        "5. Write a Python program to sum all the items in a list.\n"
      ],
      "metadata": {
        "id": "m7oqQH-FR_yt"
      }
    },
    {
      "cell_type": "code",
      "source": [
        "a = list(map(int,input().split()))\n",
        "s = 0\n",
        "for i in a :\n",
        "  s+=i\n",
        "print(s)  \n",
        "#or\n",
        "b = [1,2,3,4,56]\n",
        "print(sum(b))"
      ],
      "metadata": {
        "id": "jqySxoo7SDNL"
      },
      "execution_count": null,
      "outputs": []
    },
    {
      "cell_type": "markdown",
      "source": [
        "6. Write a Python program to multiplies all the items in a list."
      ],
      "metadata": {
        "id": "HIl-eFcxUn53"
      }
    },
    {
      "cell_type": "code",
      "source": [
        "a = list(map(int,input().split()))\n",
        "m = 1\n",
        "for i in a:\n",
        "   m*=i\n",
        "print(m)   "
      ],
      "metadata": {
        "colab": {
          "base_uri": "https://localhost:8080/"
        },
        "id": "DEt6MDprU5Oz",
        "outputId": "ce3c1e3b-84ff-47bf-eb47-5dfd6c42c228"
      },
      "execution_count": 14,
      "outputs": [
        {
          "output_type": "stream",
          "name": "stdout",
          "text": [
            "1 2 3 4 5 6\n",
            "720\n"
          ]
        }
      ]
    },
    {
      "cell_type": "markdown",
      "source": [
        "7. Write a Python program to get the smallest number from a list"
      ],
      "metadata": {
        "id": "cHdu-WmEVHho"
      }
    },
    {
      "cell_type": "code",
      "source": [
        "a = list(map(int,input().split()))\n",
        "print(min(a))\n",
        "#or\n",
        "a.sort()\n",
        "print(a[0])"
      ],
      "metadata": {
        "colab": {
          "base_uri": "https://localhost:8080/"
        },
        "id": "2iycZhv0VLVR",
        "outputId": "25976b51-2097-4664-b534-8d8096caa523"
      },
      "execution_count": 15,
      "outputs": [
        {
          "output_type": "stream",
          "name": "stdout",
          "text": [
            "100 54 12 65 10\n",
            "10\n",
            "10\n"
          ]
        }
      ]
    },
    {
      "cell_type": "markdown",
      "source": [
        "8. Write a Python program to count the number of strings where the string length\n",
        "is 2 or more and the first and last character are same from a given list of strings.\n"
      ],
      "metadata": {
        "id": "69mhO94mVWUr"
      }
    },
    {
      "cell_type": "code",
      "source": [
        "a = ['abc','xyz','aba','1221']\n",
        "count = 0\n",
        "for i in a:\n",
        "   if len(i)>=2 and i[0]==i[-1]:\n",
        "     count+=1\n",
        "print(count)     "
      ],
      "metadata": {
        "colab": {
          "base_uri": "https://localhost:8080/"
        },
        "id": "1OYizZG6VgrR",
        "outputId": "59039ca4-a177-4a01-c8f0-bd7d690e330d"
      },
      "execution_count": 18,
      "outputs": [
        {
          "output_type": "stream",
          "name": "stdout",
          "text": [
            "2\n"
          ]
        }
      ]
    },
    {
      "cell_type": "markdown",
      "source": [
        "9. Write a Python program to get a list, sorted in increasing order by the last\n",
        "element in each tuple from a given list of non-empty tuples.\n"
      ],
      "metadata": {
        "id": "0nYXv_-OVybO"
      }
    },
    {
      "cell_type": "code",
      "source": [
        "a =  [(2, 5), (1, 2), (4, 4), (2, 3), (2, 1)]\n",
        "print(a[::-1]) "
      ],
      "metadata": {
        "colab": {
          "base_uri": "https://localhost:8080/"
        },
        "id": "_q-nbe34V_Db",
        "outputId": "3bbfe659-e9e4-4a93-e680-28a8ca9a1112"
      },
      "execution_count": 19,
      "outputs": [
        {
          "output_type": "stream",
          "name": "stdout",
          "text": [
            "[(2, 1), (2, 3), (4, 4), (1, 2), (2, 5)]\n"
          ]
        }
      ]
    },
    {
      "cell_type": "markdown",
      "source": [
        "10. Write a Python program to get the difference between the two lists.\n",
        "\n"
      ],
      "metadata": {
        "id": "aUlZ85lZWH8F"
      }
    },
    {
      "cell_type": "code",
      "source": [
        "a = [1,2,3,4,5]\n",
        "b = [3,4]\n",
        "c = []\n",
        "for i in a:\n",
        "  if i not in b:\n",
        "    c.append(i)\n",
        "print(c)    \n",
        "\n",
        "\n"
      ],
      "metadata": {
        "colab": {
          "base_uri": "https://localhost:8080/"
        },
        "id": "yk8Ev4hwWL3K",
        "outputId": "1f579fc7-c482-497e-e964-7c960fadbe59"
      },
      "execution_count": 33,
      "outputs": [
        {
          "output_type": "stream",
          "name": "stdout",
          "text": [
            "[1, 2, 5]\n"
          ]
        }
      ]
    },
    {
      "cell_type": "markdown",
      "source": [
        "11. Write a Python program to find common items from two lists.\n"
      ],
      "metadata": {
        "id": "Eo7-xK4Abpym"
      }
    },
    {
      "cell_type": "code",
      "source": [
        "a = [1,2,3,4,5,6]\n",
        "b = [2,3,4,7,8,9]\n",
        "c = []\n",
        "for i in a:\n",
        "   if i in b:\n",
        "     c.append(i)\n",
        "print(c)     "
      ],
      "metadata": {
        "colab": {
          "base_uri": "https://localhost:8080/"
        },
        "id": "Z4cMGJkgbxRQ",
        "outputId": "b17f8502-c407-4170-f4fe-a49fd94f2ad5"
      },
      "execution_count": 34,
      "outputs": [
        {
          "output_type": "stream",
          "name": "stdout",
          "text": [
            "[2, 3, 4]\n"
          ]
        }
      ]
    },
    {
      "cell_type": "markdown",
      "source": [
        "12. Write a Python program to remove duplicates from a list of lists."
      ],
      "metadata": {
        "id": "A386I9-ZcBGY"
      }
    },
    {
      "cell_type": "code",
      "source": [
        "a =  [[10, 20], [40], [30, 56, 25], [10, 20], [33], [40]]\n",
        "b = []\n",
        "for i in a:\n",
        "  if i not in b:\n",
        "     b.append(i)\n",
        "print(b)     \n",
        "    \n",
        "        "
      ],
      "metadata": {
        "colab": {
          "base_uri": "https://localhost:8080/"
        },
        "id": "2WX_JKxTcI8-",
        "outputId": "a992cb95-cf82-403a-ca97-987e6091253c"
      },
      "execution_count": 41,
      "outputs": [
        {
          "output_type": "stream",
          "name": "stdout",
          "text": [
            "[[10, 20], [40], [30, 56, 25], [33]]\n"
          ]
        }
      ]
    }
  ]
}