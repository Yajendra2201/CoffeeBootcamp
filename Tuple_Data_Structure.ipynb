{
  "nbformat": 4,
  "nbformat_minor": 0,
  "metadata": {
    "colab": {
      "name": "Tuple_Data_Structure.ipynb",
      "provenance": [],
      "collapsed_sections": []
    },
    "kernelspec": {
      "name": "python3",
      "display_name": "Python 3"
    },
    "language_info": {
      "name": "python"
    }
  },
  "cells": [
    {
      "cell_type": "markdown",
      "source": [
        "1. Write a Python program to create a tuple.\n"
      ],
      "metadata": {
        "id": "iPNyzr6lfcl1"
      }
    },
    {
      "cell_type": "code",
      "source": [
        "a = tuple(map(int,input().split()))\n",
        "#or\n",
        "b = (1,2,3,4,5)\n",
        "print(a)\n",
        "print(b)\n"
      ],
      "metadata": {
        "colab": {
          "base_uri": "https://localhost:8080/"
        },
        "id": "ZX7C7u2VflBJ",
        "outputId": "44dee993-5308-425d-e9ea-c45bcdf8e1c5"
      },
      "execution_count": 4,
      "outputs": [
        {
          "output_type": "stream",
          "name": "stdout",
          "text": [
            "9 8 7\n",
            "(9, 8, 7)\n",
            "(1, 2, 3, 4, 5)\n"
          ]
        }
      ]
    },
    {
      "cell_type": "markdown",
      "source": [
        "2. Write a Python program to create a tuple with different data types."
      ],
      "metadata": {
        "id": "u2JwitoTgHbR"
      }
    },
    {
      "cell_type": "code",
      "source": [
        "a = tuple(input().split())\n",
        "#or\n",
        "b = (1,2,3,'Hello',True)\n",
        "print(a)\n",
        "print(b)\n",
        "\n"
      ],
      "metadata": {
        "colab": {
          "base_uri": "https://localhost:8080/"
        },
        "id": "Siyp2RFYgKr_",
        "outputId": "55fd05ee-3bd4-4724-a906-533491793c55"
      },
      "execution_count": 6,
      "outputs": [
        {
          "output_type": "stream",
          "name": "stdout",
          "text": [
            "7 jdfsd 5\n",
            "('7', 'jdfsd', '5')\n",
            "(1, 2, 3, 'Hello', True)\n"
          ]
        }
      ]
    },
    {
      "cell_type": "markdown",
      "source": [
        "3. Write a Python program to unpack a tuple in several variables."
      ],
      "metadata": {
        "id": "FMPrQthPhTZ8"
      }
    },
    {
      "cell_type": "code",
      "source": [
        "a = tuple(map(int,input().split()))\n",
        "x,y,z = a\n",
        "print(a)\n",
        "print(x,y,z)\n",
        "print(x+y+z)"
      ],
      "metadata": {
        "colab": {
          "base_uri": "https://localhost:8080/"
        },
        "id": "E0BTY4AuhWHr",
        "outputId": "1e93b344-3ec9-45cd-9224-3ab6fed3931d"
      },
      "execution_count": 9,
      "outputs": [
        {
          "output_type": "stream",
          "name": "stdout",
          "text": [
            "4 6 8\n",
            "(4, 6, 8)\n",
            "4 6 8\n",
            "18\n"
          ]
        }
      ]
    },
    {
      "cell_type": "markdown",
      "source": [
        "4. Write a Python program to find the repeated items of a tuple.\n"
      ],
      "metadata": {
        "id": "taX3HPFTiUFd"
      }
    },
    {
      "cell_type": "code",
      "source": [
        "a = tuple(map(int,input().split()))\n",
        "for i in a:\n",
        "  if a.count(i)>1:\n",
        "    print(i)\n",
        "         \n",
        "     \n"
      ],
      "metadata": {
        "colab": {
          "base_uri": "https://localhost:8080/"
        },
        "id": "FN82kE2ziVp4",
        "outputId": "de59c5ac-edc0-4d87-cee6-a0823fa84a7f"
      },
      "execution_count": 15,
      "outputs": [
        {
          "output_type": "stream",
          "name": "stdout",
          "text": [
            "1 1 2 2 3 3 4 5\n",
            "1\n",
            "1\n",
            "2\n",
            "2\n",
            "3\n",
            "3\n"
          ]
        }
      ]
    },
    {
      "cell_type": "markdown",
      "source": [
        "5. Write a Python program to check whether an element exists within a tuple."
      ],
      "metadata": {
        "id": "R5_Ng2G7kZKV"
      }
    },
    {
      "cell_type": "code",
      "source": [
        "a = tuple(input().split())\n",
        "b = input(\"Enter the element to search:-\")\n",
        "\n",
        "if b in a:\n",
        "    print(\"Exist\")\n",
        "else:\n",
        "    print(\"Not exist\")  "
      ],
      "metadata": {
        "colab": {
          "base_uri": "https://localhost:8080/"
        },
        "id": "dtAQkK4Vkbev",
        "outputId": "8ec4426a-be75-4c85-ae05-a7db3503734a"
      },
      "execution_count": 17,
      "outputs": [
        {
          "output_type": "stream",
          "name": "stdout",
          "text": [
            "1 23 45 6\n",
            "Enter the element to search:-1\n",
            "Exist\n"
          ]
        }
      ]
    },
    {
      "cell_type": "markdown",
      "source": [
        "6. Write a Python program to convert a list to a tuple"
      ],
      "metadata": {
        "id": "djyt98nokzdj"
      }
    },
    {
      "cell_type": "code",
      "source": [
        "a = tuple(input().split())\n",
        "b = list(a)\n",
        "print(b)"
      ],
      "metadata": {
        "colab": {
          "base_uri": "https://localhost:8080/"
        },
        "id": "00framZlk14q",
        "outputId": "a559bd18-44f2-49da-d0fe-ebb7c9f6b37a"
      },
      "execution_count": 18,
      "outputs": [
        {
          "output_type": "stream",
          "name": "stdout",
          "text": [
            "1 2 3 hello 3\n",
            "['1', '2', '3', 'hello', '3']\n"
          ]
        }
      ]
    },
    {
      "cell_type": "markdown",
      "source": [
        "7.Write a Python program to remove an item from a tuple.\n"
      ],
      "metadata": {
        "id": "icTtP6QSk8zt"
      }
    },
    {
      "cell_type": "code",
      "source": [
        "a = tuple(input().split())\n",
        "b = list(a)\n",
        "c = input(\"Item to remove:-\")\n",
        "b.remove(c)\n",
        "print(tuple(b))"
      ],
      "metadata": {
        "colab": {
          "base_uri": "https://localhost:8080/"
        },
        "id": "V4U_qUktk_c4",
        "outputId": "bc1ea6f3-e473-40f5-8e57-af94764d93fb"
      },
      "execution_count": 19,
      "outputs": [
        {
          "output_type": "stream",
          "name": "stdout",
          "text": [
            "1 2 3 4 5 6 \n",
            "Item to remove:-5\n",
            "('1', '2', '3', '4', '6')\n"
          ]
        }
      ]
    },
    {
      "cell_type": "markdown",
      "source": [
        "\n",
        "8. Write a Python program to slice a tuple.\n"
      ],
      "metadata": {
        "id": "GjB8AhKtlTTX"
      }
    },
    {
      "cell_type": "code",
      "source": [
        "a = tuple(input().split())\n",
        "print(a[:3])\n",
        "print(a[3:])"
      ],
      "metadata": {
        "colab": {
          "base_uri": "https://localhost:8080/"
        },
        "id": "Lq4MRKXSlbjE",
        "outputId": "345cf3cb-2495-4c3a-f6e0-147f0bdd81e7"
      },
      "execution_count": 20,
      "outputs": [
        {
          "output_type": "stream",
          "name": "stdout",
          "text": [
            "1 2 3 4 5 6 78 9\n",
            "('1', '2', '3')\n",
            "('4', '5', '6', '78', '9')\n"
          ]
        }
      ]
    },
    {
      "cell_type": "markdown",
      "source": [
        "9. Write a Python program to reverse a tuple"
      ],
      "metadata": {
        "id": "zBSg1JTwliqW"
      }
    },
    {
      "cell_type": "code",
      "source": [
        "a = tuple(input().split())\n",
        "print(a[::-1])"
      ],
      "metadata": {
        "colab": {
          "base_uri": "https://localhost:8080/"
        },
        "id": "FoHyVQRTlkwl",
        "outputId": "c5e3de40-f29f-43a5-9fa9-f3a114a4ccf0"
      },
      "execution_count": 21,
      "outputs": [
        {
          "output_type": "stream",
          "name": "stdout",
          "text": [
            "1 2 3 45 6\n",
            "('6', '45', '3', '2', '1')\n"
          ]
        }
      ]
    }
  ]
}