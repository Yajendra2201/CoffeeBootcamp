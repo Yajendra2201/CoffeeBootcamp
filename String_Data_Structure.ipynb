{
  "nbformat": 4,
  "nbformat_minor": 0,
  "metadata": {
    "colab": {
      "name": "String_Data_Structure.ipynb",
      "provenance": [],
      "collapsed_sections": []
    },
    "kernelspec": {
      "name": "python3",
      "display_name": "Python 3"
    },
    "language_info": {
      "name": "python"
    }
  },
  "cells": [
    {
      "cell_type": "markdown",
      "source": [
        "1. Write a Python program to calculate the length of a string."
      ],
      "metadata": {
        "id": "shCTf70RD73p"
      }
    },
    {
      "cell_type": "code",
      "source": [
        "a = input()\n",
        "print(len(a))\n",
        "#or\n",
        "c = 0\n",
        "for i in a:\n",
        "  c+=1\n",
        "print(c)  "
      ],
      "metadata": {
        "colab": {
          "base_uri": "https://localhost:8080/"
        },
        "id": "ZaCViFMpD98K",
        "outputId": "59faaa2c-6d8c-4cbc-c9d6-8dcf4dc9ace1"
      },
      "execution_count": 2,
      "outputs": [
        {
          "output_type": "stream",
          "name": "stdout",
          "text": [
            "Yajendraprajapati\n",
            "17\n",
            "17\n"
          ]
        }
      ]
    },
    {
      "cell_type": "markdown",
      "source": [
        "2. Write a Python program to count the number of characters (character frequency) in a\n",
        "string"
      ],
      "metadata": {
        "id": "U1CTBiy0EOw0"
      }
    },
    {
      "cell_type": "code",
      "source": [
        "s = input()\n",
        "d = dict()\n",
        "for i in s:\n",
        "  if i not in d:\n",
        "    d[i]=0\n",
        "  d[i]+=1\n",
        "print(d)    "
      ],
      "metadata": {
        "colab": {
          "base_uri": "https://localhost:8080/"
        },
        "id": "YZZkf8YrERfV",
        "outputId": "1924666f-69c0-4711-9a60-16226e8356b4"
      },
      "execution_count": 3,
      "outputs": [
        {
          "output_type": "stream",
          "name": "stdout",
          "text": [
            "helloworld.:ld\n",
            "{'h': 1, 'e': 1, 'l': 4, 'o': 2, 'w': 1, 'r': 1, 'd': 2, '.': 1, ':': 1}\n"
          ]
        }
      ]
    },
    {
      "cell_type": "markdown",
      "source": [
        "3. Write a Python program to get a string from a given string where all occurrences of its\n",
        "first char have been changed to '$', except the first char itself.\n"
      ],
      "metadata": {
        "id": "sOHlwerpEgkf"
      }
    },
    {
      "cell_type": "code",
      "source": [
        "s = input()\n",
        "a = s[0]\n",
        "for i in s:\n",
        "    if i==a:\n",
        "      s = s.replace(i,'$')\n",
        "print(a+s[1:])      "
      ],
      "metadata": {
        "colab": {
          "base_uri": "https://localhost:8080/"
        },
        "id": "_QNDPBsoEmEA",
        "outputId": "9de013ec-76fc-4669-ddfc-6afe934f7572"
      },
      "execution_count": 6,
      "outputs": [
        {
          "output_type": "stream",
          "name": "stdout",
          "text": [
            "hwloojihihi\n",
            "hwlooji$i$i\n"
          ]
        }
      ]
    },
    {
      "cell_type": "markdown",
      "source": [
        "4. Write a Python program to get a string from a given string where all occurrences of its\n",
        "first char have been changed to '$', except the first char itself.\n"
      ],
      "metadata": {
        "id": "9tDwwUlRGGCT"
      }
    },
    {
      "cell_type": "code",
      "source": [
        "s = input()\n",
        "if len(s)<3:\n",
        "  print(s)\n",
        "a = ''             \n",
        "\n",
        "for i in range(len(s)):\n",
        "    if s[-3:]!='ing':\n",
        "         a = s + 'ing'\n",
        "    else:\n",
        "        a = s + 'ly'\n",
        "print(a)        "
      ],
      "metadata": {
        "colab": {
          "base_uri": "https://localhost:8080/"
        },
        "id": "MSnw_n81GNzV",
        "outputId": "28f69f4a-43fa-4655-d38f-2eca5705d3a7"
      },
      "execution_count": 15,
      "outputs": [
        {
          "output_type": "stream",
          "name": "stdout",
          "text": [
            "helloing\n",
            "helloingly\n"
          ]
        }
      ]
    },
    {
      "cell_type": "markdown",
      "source": [
        "5. Write a Python function that takes a list of words and returns the length of the longest\n",
        "one.\n"
      ],
      "metadata": {
        "id": "fK7NXWUyH9LW"
      }
    },
    {
      "cell_type": "code",
      "source": [
        "s = ['Hello','Yajendra','function','Minikube','Docker']\n",
        "print(max(s,key=len))\n",
        "print(len(max(s,key=len)))"
      ],
      "metadata": {
        "colab": {
          "base_uri": "https://localhost:8080/"
        },
        "id": "g5d-tKnQIBvJ",
        "outputId": "f33e8630-f4d9-4e68-a517-d1605bf6a605"
      },
      "execution_count": 19,
      "outputs": [
        {
          "output_type": "stream",
          "name": "stdout",
          "text": [
            "Yajendra\n",
            "8\n"
          ]
        }
      ]
    },
    {
      "cell_type": "markdown",
      "source": [
        "6. Write a Python script that takes input from the user and displays that input back in\n",
        "upper and lower cases."
      ],
      "metadata": {
        "id": "4BoPGHNbIX82"
      }
    },
    {
      "cell_type": "code",
      "source": [
        "s = input()\n",
        "print(s.lower())\n",
        "print(s.upper())\n"
      ],
      "metadata": {
        "colab": {
          "base_uri": "https://localhost:8080/"
        },
        "id": "8glYUD0jIas-",
        "outputId": "99435b3b-e1e7-4869-8efc-64a3ca0acae9"
      },
      "execution_count": 20,
      "outputs": [
        {
          "output_type": "stream",
          "name": "stdout",
          "text": [
            "ABDCsfakfjas\n",
            "abdcsfakfjas\n",
            "ABDCSFAKFJAS\n"
          ]
        }
      ]
    },
    {
      "cell_type": "markdown",
      "source": [
        "7. Write a Python program that accepts a comma separated sequence of words as input\n",
        "and prints the unique words in sorted form (alphanumerically).\n"
      ],
      "metadata": {
        "id": "DLKfLDLhIhlD"
      }
    },
    {
      "cell_type": "code",
      "source": [
        "s = input().split(',')\n",
        "c = set(s)\n",
        "print(c)"
      ],
      "metadata": {
        "colab": {
          "base_uri": "https://localhost:8080/"
        },
        "id": "2zbKrz8tI3xd",
        "outputId": "17b1a0b2-34ce-4031-f8c3-c4f0f78dfb86"
      },
      "execution_count": 29,
      "outputs": [
        {
          "output_type": "stream",
          "name": "stdout",
          "text": [
            "red,blue,red\n",
            "{'red', 'blue'}\n"
          ]
        }
      ]
    },
    {
      "cell_type": "markdown",
      "source": [
        "8. Write a Python program to get the last part of a string before a specified character."
      ],
      "metadata": {
        "id": "rj_JVOntKGmA"
      }
    },
    {
      "cell_type": "code",
      "source": [
        "s = input()\n",
        "\n",
        "s = s.rsplit('/',1)[0]\n",
        "print(s)"
      ],
      "metadata": {
        "colab": {
          "base_uri": "https://localhost:8080/"
        },
        "id": "8C7565cTKx-h",
        "outputId": "e7d8c908-aa53-410c-cc00-d0cc932ab0c5"
      },
      "execution_count": 33,
      "outputs": [
        {
          "output_type": "stream",
          "name": "stdout",
          "text": [
            "hello/world\n",
            "hello\n"
          ]
        }
      ]
    },
    {
      "cell_type": "markdown",
      "source": [
        "\n",
        "10. Write a Python program to count occurrences of a substring in a string."
      ],
      "metadata": {
        "id": "PKhfzBmdMdJT"
      }
    },
    {
      "cell_type": "code",
      "source": [
        "s = input()\n",
        "a = []\n",
        "for i in range(len(s)+1):\n",
        "   for j in range(i):\n",
        "       a.append(s[j:i])\n",
        "d = dict()       \n",
        "for i in a:\n",
        "    if i not in d:\n",
        "       d[i]=0\n",
        "    d[i]+=1\n",
        "print(d)             "
      ],
      "metadata": {
        "colab": {
          "base_uri": "https://localhost:8080/"
        },
        "id": "ro4qiJYzMgS_",
        "outputId": "4da244a1-1d00-4d2d-e17d-bfcfe4f9183c"
      },
      "execution_count": 34,
      "outputs": [
        {
          "output_type": "stream",
          "name": "stdout",
          "text": [
            "helloworld\n",
            "{'h': 1, 'he': 1, 'e': 1, 'hel': 1, 'el': 1, 'l': 3, 'hell': 1, 'ell': 1, 'll': 1, 'hello': 1, 'ello': 1, 'llo': 1, 'lo': 1, 'o': 2, 'hellow': 1, 'ellow': 1, 'llow': 1, 'low': 1, 'ow': 1, 'w': 1, 'hellowo': 1, 'ellowo': 1, 'llowo': 1, 'lowo': 1, 'owo': 1, 'wo': 1, 'hellowor': 1, 'ellowor': 1, 'llowor': 1, 'lowor': 1, 'owor': 1, 'wor': 1, 'or': 1, 'r': 1, 'helloworl': 1, 'elloworl': 1, 'lloworl': 1, 'loworl': 1, 'oworl': 1, 'worl': 1, 'orl': 1, 'rl': 1, 'helloworld': 1, 'elloworld': 1, 'lloworld': 1, 'loworld': 1, 'oworld': 1, 'world': 1, 'orld': 1, 'rld': 1, 'ld': 1, 'd': 1}\n"
          ]
        }
      ]
    },
    {
      "cell_type": "markdown",
      "source": [
        "11. Write a Python program to reverse a string.\n"
      ],
      "metadata": {
        "id": "kOlztICENQJB"
      }
    },
    {
      "cell_type": "code",
      "source": [
        "s = input()\n",
        "print(s[::-1])"
      ],
      "metadata": {
        "colab": {
          "base_uri": "https://localhost:8080/"
        },
        "id": "AJg9L1lWNRpj",
        "outputId": "8a1f3624-02f7-41fb-9bbe-53012d38063a"
      },
      "execution_count": 35,
      "outputs": [
        {
          "output_type": "stream",
          "name": "stdout",
          "text": [
            "hello\n",
            "olleh\n"
          ]
        }
      ]
    },
    {
      "cell_type": "markdown",
      "source": [
        "12. Write a Python program to lowercase first n characters in a string."
      ],
      "metadata": {
        "id": "6A-1vY4kNV5-"
      }
    },
    {
      "cell_type": "code",
      "source": [
        "s = input()\n",
        "n = int(input())\n",
        "if n>len(s):\n",
        "  print(s)\n",
        "a = s[0:n].lower() + s[n:] \n",
        "print(a) "
      ],
      "metadata": {
        "colab": {
          "base_uri": "https://localhost:8080/"
        },
        "id": "vLzbRGTFNjws",
        "outputId": "0b312699-e2e3-498b-9b7c-27f1a9da5355"
      },
      "execution_count": 37,
      "outputs": [
        {
          "output_type": "stream",
          "name": "stdout",
          "text": [
            "HELLOWORLD\n",
            "4\n",
            "hellOWORLD\n"
          ]
        }
      ]
    }
  ]
}