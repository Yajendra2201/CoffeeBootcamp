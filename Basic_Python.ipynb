{
  "nbformat": 4,
  "nbformat_minor": 0,
  "metadata": {
    "colab": {
      "name": "Basic_Python.ipynb",
      "provenance": [],
      "collapsed_sections": []
    },
    "kernelspec": {
      "name": "python3",
      "display_name": "Python 3"
    },
    "language_info": {
      "name": "python"
    }
  },
  "cells": [
    {
      "cell_type": "markdown",
      "source": [
        "1. Write a Python program which accepts the user's first and last name and prints them in\n",
        "reverse order with a space between them."
      ],
      "metadata": {
        "id": "W4WtfZgT3jMM"
      }
    },
    {
      "cell_type": "code",
      "source": [
        "Firstname = input(\"Enter your first name:-\")\n",
        "Lastname = input(\"Enter your last name:-\")\n",
        "print(Lastname + \" \" + Firstname)"
      ],
      "metadata": {
        "colab": {
          "base_uri": "https://localhost:8080/"
        },
        "id": "3rVUcyvd3lca",
        "outputId": "fac943c3-05a1-49fc-9c7e-98fbc31a2f73"
      },
      "execution_count": 1,
      "outputs": [
        {
          "output_type": "stream",
          "name": "stdout",
          "text": [
            "Enter your first name:-Yajendra\n",
            "Enter your last name:-Prajapati\n",
            "Prajapati Yajendra\n"
          ]
        }
      ]
    },
    {
      "cell_type": "markdown",
      "source": [
        "2. Write a Python program which accepts a sequence of comma-separated numbers from the\n",
        "user and generates a list and a tuple with those numbers.\n"
      ],
      "metadata": {
        "id": "yYXKMWMT3xLX"
      }
    },
    {
      "cell_type": "code",
      "source": [
        "num = input().split(',')\n",
        "l = list(num)\n",
        "t = tuple(num)\n",
        "print(l)\n",
        "print(t)"
      ],
      "metadata": {
        "colab": {
          "base_uri": "https://localhost:8080/"
        },
        "id": "JH1OIiou4DUV",
        "outputId": "c1b52a1f-2504-4cf0-edbb-1619afcbc18f"
      },
      "execution_count": 2,
      "outputs": [
        {
          "output_type": "stream",
          "name": "stdout",
          "text": [
            "3,4,5,6,7,8\n",
            "['3', '4', '5', '6', '7', '8']\n",
            "('3', '4', '5', '6', '7', '8')\n"
          ]
        }
      ]
    },
    {
      "cell_type": "markdown",
      "source": [
        "3. Write a Python program to display the first and last colours from the following list.\n",
        "color_list = [\"Red\",\"Green\",\"White\" ,\"Black\"]"
      ],
      "metadata": {
        "id": "asyJQ8aF4NO7"
      }
    },
    {
      "cell_type": "code",
      "source": [
        "color_list = [\"Red\",\"Green\",\"White\" ,\"Black\"]\n",
        "print(color_list[0])\n",
        "print(color_list[-1])\n"
      ],
      "metadata": {
        "colab": {
          "base_uri": "https://localhost:8080/"
        },
        "id": "7107__sl4Q_x",
        "outputId": "27cfeaa8-c5d4-40b0-e727-e63ad73817e2"
      },
      "execution_count": 3,
      "outputs": [
        {
          "output_type": "stream",
          "name": "stdout",
          "text": [
            "Red\n",
            "Black\n"
          ]
        }
      ]
    },
    {
      "cell_type": "markdown",
      "source": [
        "4. Write a Python program to check whether a specified value is contained in a group of values"
      ],
      "metadata": {
        "id": "sAhPjE6N478H"
      }
    },
    {
      "cell_type": "code",
      "source": [
        "l = [1,2,35,6,8,13,4,53,2]\n",
        "a = int(input(\"Enter the number to check:-\"))\n",
        "if a in l:\n",
        "  print(True)\n",
        "else:\n",
        "  print(False)  "
      ],
      "metadata": {
        "colab": {
          "base_uri": "https://localhost:8080/"
        },
        "id": "1I-Sc5C149dF",
        "outputId": "94631246-963a-4cce-8bbd-63816fb88a1b"
      },
      "execution_count": 6,
      "outputs": [
        {
          "output_type": "stream",
          "name": "stdout",
          "text": [
            "Enter the number to check:-10\n",
            "False\n"
          ]
        }
      ]
    },
    {
      "cell_type": "markdown",
      "source": [
        "5. Write a Python program to create a histogram from a given list of integers.\n"
      ],
      "metadata": {
        "id": "p8K1ZpN15Tc6"
      }
    },
    {
      "cell_type": "code",
      "source": [
        "import matplotlib.pyplot as plt\n",
        "x = [1,2,3,4,5,6,7]\n",
        "plt.hist(x)\n",
        "plt.show()"
      ],
      "metadata": {
        "colab": {
          "base_uri": "https://localhost:8080/",
          "height": 265
        },
        "id": "Q9ejekrV5aTs",
        "outputId": "b9f0babb-630e-4acf-f861-7b0ddc95a5a7"
      },
      "execution_count": 8,
      "outputs": [
        {
          "output_type": "display_data",
          "data": {
            "text/plain": [
              "<Figure size 432x288 with 1 Axes>"
            ],
            "image/png": "[encoded data removed]"
          },
          "metadata": {
            "needs_background": "light"
          }
        }
      ]
    },
    {
      "cell_type": "markdown",
      "source": [
        "6.Write a Python program to concatenate all elements in a list into a string and return it.\n"
      ],
      "metadata": {
        "id": "QskaDNgu5vQS"
      }
    },
    {
      "cell_type": "code",
      "source": [
        "l = [1,4,6,2,3,4,5]\n",
        "a = \"\"\n",
        "for i in l:\n",
        "   a+=str(i)\n",
        "print(a)   "
      ],
      "metadata": {
        "colab": {
          "base_uri": "https://localhost:8080/"
        },
        "id": "7XBvs5OX5w1K",
        "outputId": "df223a93-433d-43f5-d688-15f1b60394ec"
      },
      "execution_count": 10,
      "outputs": [
        {
          "output_type": "stream",
          "name": "stdout",
          "text": [
            "1462345\n"
          ]
        }
      ]
    },
    {
      "cell_type": "markdown",
      "source": [
        "7. Write a Python program to print out a set containing all the colors from color_list_1 which are\n",
        "not present in color_list_2."
      ],
      "metadata": {
        "id": "x1wz91y85-3L"
      }
    },
    {
      "cell_type": "code",
      "source": [
        "color_list_1 = ['White','Black','Red']\n",
        "color_list_2 = ['Red','Green']\n",
        "l = set()\n",
        "for i in color_list_1:\n",
        "     if i not in color_list_2:\n",
        "        l.add(i)\n",
        "print(l)        \n"
      ],
      "metadata": {
        "colab": {
          "base_uri": "https://localhost:8080/"
        },
        "id": "2wgj4mp46Rzq",
        "outputId": "fe0c81d5-d96a-4226-ae2d-ccc55a3ad478"
      },
      "execution_count": 12,
      "outputs": [
        {
          "output_type": "stream",
          "name": "stdout",
          "text": [
            "{'White', 'Black'}\n"
          ]
        }
      ]
    },
    {
      "cell_type": "markdown",
      "source": [
        "8. Write a Python program to find out the number of CPUs using"
      ],
      "metadata": {
        "id": "18Izu6bv7OJq"
      }
    },
    {
      "cell_type": "code",
      "source": [
        "import os\n",
        "print(os.cpu_count())"
      ],
      "metadata": {
        "colab": {
          "base_uri": "https://localhost:8080/"
        },
        "id": "ZIfmtgEX7u12",
        "outputId": "ad7e9ca5-f0e8-4a03-e705-fe205abe41e1"
      },
      "execution_count": 13,
      "outputs": [
        {
          "output_type": "stream",
          "name": "stdout",
          "text": [
            "2\n"
          ]
        }
      ]
    },
    {
      "cell_type": "markdown",
      "source": [
        "9. Write a Python program to sort three integers without using conditional statements and\n",
        "loops"
      ],
      "metadata": {
        "id": "B3cIXkhU9XrJ"
      }
    },
    {
      "cell_type": "code",
      "source": [
        "a = [6,2,1]\n",
        "print(sorted(a))\n",
        "\n",
        "#or\n",
        "\n",
        "a = [1,5,1]\n",
        "a.sort()\n",
        "print(a)"
      ],
      "metadata": {
        "colab": {
          "base_uri": "https://localhost:8080/"
        },
        "id": "RuUe2MvE9d6b",
        "outputId": "ed0cf469-1953-4aba-bd46-606f9933e7f0"
      },
      "execution_count": 17,
      "outputs": [
        {
          "output_type": "stream",
          "name": "stdout",
          "text": [
            "[1, 2, 6]\n",
            "[1, 1, 5]\n"
          ]
        }
      ]
    },
    {
      "cell_type": "markdown",
      "source": [
        "10. Write a Python program to count the number occurrence of a specific character in a string."
      ],
      "metadata": {
        "id": "W-9TovkB91Zr"
      }
    },
    {
      "cell_type": "code",
      "source": [
        "s = \"abcacsksdnkadsdasd\"\n",
        "a = 0\n",
        "c = input(\"Enter the character:-\")\n",
        "for i in s:\n",
        "  if i==c:\n",
        "    a+=1\n",
        "print(a)        "
      ],
      "metadata": {
        "colab": {
          "base_uri": "https://localhost:8080/"
        },
        "id": "7ty1iUIn922Z",
        "outputId": "48d2e1b7-6ee0-4e41-f5cd-8d2cb52547fb"
      },
      "execution_count": 19,
      "outputs": [
        {
          "output_type": "stream",
          "name": "stdout",
          "text": [
            "Enter the character:-a\n",
            "4\n"
          ]
        }
      ]
    },
    {
      "cell_type": "markdown",
      "source": [
        "11. Write a Python program to get the name of the host on which the routine is running"
      ],
      "metadata": {
        "id": "5v4E1rWI_O7A"
      }
    },
    {
      "cell_type": "code",
      "source": [
        "import socket\n",
        "print(socket.gethostname())"
      ],
      "metadata": {
        "colab": {
          "base_uri": "https://localhost:8080/"
        },
        "id": "SStV0p-Q_QnX",
        "outputId": "841652ed-ad5d-4ca4-a336-85032da87aa7"
      },
      "execution_count": 20,
      "outputs": [
        {
          "output_type": "stream",
          "name": "stdout",
          "text": [
            "a0061248b72a\n"
          ]
        }
      ]
    }
  ]
}