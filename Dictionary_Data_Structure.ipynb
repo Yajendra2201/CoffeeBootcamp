{
  "nbformat": 4,
  "nbformat_minor": 0,
  "metadata": {
    "colab": {
      "name": "Dictionary_Data_Structure.ipynb",
      "provenance": [],
      "collapsed_sections": []
    },
    "kernelspec": {
      "name": "python3",
      "display_name": "Python 3"
    },
    "language_info": {
      "name": "python"
    }
  },
  "cells": [
    {
      "cell_type": "markdown",
      "source": [
        "\n",
        "1. Write a Python script to sort (ascending and descending) a dictionary by\n",
        "value.\n"
      ],
      "metadata": {
        "id": "pi4fSBJLOzQx"
      }
    },
    {
      "cell_type": "code",
      "execution_count": 23,
      "metadata": {
        "colab": {
          "base_uri": "https://localhost:8080/"
        },
        "id": "r0kKQ-5oOGJP",
        "outputId": "9364ad86-e199-4dc1-8592-77d38f5a833f"
      },
      "outputs": [
        {
          "output_type": "stream",
          "name": "stdout",
          "text": [
            "hellowrodl\n",
            "[('d', 1), ('e', 1), ('h', 1), ('l', 3), ('o', 2), ('r', 1), ('w', 1)]\n",
            "[1, 1, 1, 1, 1, 2, 3]\n",
            "[('w', 1), ('r', 1), ('o', 2), ('l', 3), ('h', 1), ('e', 1), ('d', 1)]\n"
          ]
        }
      ],
      "source": [
        "s = input()\n",
        "d = dict()\n",
        "for i in s:\n",
        "  if i not in d:\n",
        "    d[i]=0\n",
        "  d[i]+=1\n",
        "\n",
        "print(sorted(d.items()))\n",
        "print(sorted(d.values()))\n",
        "a = sorted(d.items())\n",
        "print(a[::-1])"
      ]
    },
    {
      "cell_type": "markdown",
      "source": [
        "2. Write a Python script to add a key to a dictionary.\n"
      ],
      "metadata": {
        "id": "bKPbcjbVVRkv"
      }
    },
    {
      "cell_type": "code",
      "source": [
        "d = {0:10,1:20}\n",
        "d[2]=30\n",
        "print(d)"
      ],
      "metadata": {
        "colab": {
          "base_uri": "https://localhost:8080/"
        },
        "id": "ZGUs3w8vVTS8",
        "outputId": "a9a2892a-1b14-49bc-a700-2c51a660029d"
      },
      "execution_count": null,
      "outputs": [
        {
          "output_type": "stream",
          "name": "stdout",
          "text": [
            "{0: 10, 1: 20, 2: 30}\n"
          ]
        }
      ]
    },
    {
      "cell_type": "markdown",
      "source": [
        "3. Write a Python script to concatenate following dictionaries to create a new\n",
        "one."
      ],
      "metadata": {
        "id": "gN_dJgnLVlZ7"
      }
    },
    {
      "cell_type": "code",
      "source": [
        "d1 = {1:10,2:20}\n",
        "d2 = {3:30,4:40}\n",
        "d3 = {5:50,6:60}\n",
        "d4  =dict()\n",
        "for i in (d1,d2,d3):\n",
        "   d4.update(i)\n",
        "print(d4)   "
      ],
      "metadata": {
        "id": "5NrYFCy_Waks",
        "colab": {
          "base_uri": "https://localhost:8080/"
        },
        "outputId": "ee4e994a-d565-4e43-9258-5499a3ea0333"
      },
      "execution_count": 7,
      "outputs": [
        {
          "output_type": "stream",
          "name": "stdout",
          "text": [
            "{1: 10, 2: 20, 3: 30, 4: 40, 5: 50, 6: 60}\n"
          ]
        }
      ]
    },
    {
      "cell_type": "markdown",
      "source": [
        "4. Write a Python program to iterate over dictionaries using for loops.\n"
      ],
      "metadata": {
        "id": "yCoF01DtX2Go"
      }
    },
    {
      "cell_type": "code",
      "source": [
        "d = {1:10,2:20,4:30,5:2,6:1}\n",
        "for i in d.items():\n",
        "   print(i)"
      ],
      "metadata": {
        "colab": {
          "base_uri": "https://localhost:8080/"
        },
        "id": "hqtJSBA4X5QV",
        "outputId": "9acbbed3-aac7-4af5-973a-bf4e0e0e3a77"
      },
      "execution_count": 28,
      "outputs": [
        {
          "output_type": "stream",
          "name": "stdout",
          "text": [
            "(1, 10)\n",
            "(2, 20)\n",
            "(4, 30)\n",
            "(5, 2)\n",
            "(6, 1)\n"
          ]
        }
      ]
    },
    {
      "cell_type": "markdown",
      "source": [
        "5. Write a Python script to generate and print a dictionary that contains a\n",
        "number (between 1 and n) in the form (x, x*x).\n"
      ],
      "metadata": {
        "id": "oEwibBrEYTTE"
      }
    },
    {
      "cell_type": "code",
      "source": [
        "n = int(input())\n",
        "d = dict()\n",
        "for i in range(1,n+1):\n",
        "    if i not in d:\n",
        "      d[i]=0\n",
        "    d[i]+=i*i\n",
        "print(d)      "
      ],
      "metadata": {
        "colab": {
          "base_uri": "https://localhost:8080/"
        },
        "id": "p3aKL4TsYcaT",
        "outputId": "f02fe24a-a4a8-4e08-8295-2b5fec0cc194"
      },
      "execution_count": 11,
      "outputs": [
        {
          "output_type": "stream",
          "name": "stdout",
          "text": [
            "5\n",
            "{1: 1, 2: 4, 3: 9, 4: 16, 5: 25}\n"
          ]
        }
      ]
    },
    {
      "cell_type": "markdown",
      "source": [
        "6.Write a Python program to remove a key from a dictionary.\n"
      ],
      "metadata": {
        "id": "pRhFxsAsZDSZ"
      }
    },
    {
      "cell_type": "code",
      "source": [
        "s = input()\n",
        "d = dict()\n",
        "for i in s:\n",
        "   if i not in d:\n",
        "      d[i]=0\n",
        "   d[i]+=1\n",
        "h = input()   \n",
        "d.pop(h)\n",
        "print(d)      "
      ],
      "metadata": {
        "colab": {
          "base_uri": "https://localhost:8080/"
        },
        "id": "y--7xBhTZFyl",
        "outputId": "68af2f55-5343-4076-ab14-5e1cbb93fca7"
      },
      "execution_count": 12,
      "outputs": [
        {
          "output_type": "stream",
          "name": "stdout",
          "text": [
            "helloworld\n",
            "o\n",
            "{'h': 1, 'e': 1, 'l': 3, 'w': 1, 'r': 1, 'd': 1}\n"
          ]
        }
      ]
    },
    {
      "cell_type": "markdown",
      "source": [
        "7. Write a Python program to print all unique values in a dictionary."
      ],
      "metadata": {
        "id": "JVxZesWoZxgi"
      }
    },
    {
      "cell_type": "code",
      "source": [
        "d =  [{\"V\":\"S001\"}, {\"V\": \"S002\"}, {\"VI\": \"S001\"}, {\"VI\": \"S005\"},\n",
        "{\"VII\":\"S005\"}, {\"V\":\"S009\"},{\"VIII\":\"S007\"}]\n",
        "a = set()\n",
        "for i in d:\n",
        "   for j in i.values():\n",
        "       a.add(j)\n",
        "print(a)   \n",
        "  "
      ],
      "metadata": {
        "colab": {
          "base_uri": "https://localhost:8080/"
        },
        "id": "NDtloU-LZ3Bi",
        "outputId": "a3ece73c-f46f-4ccb-df82-72942f133981"
      },
      "execution_count": 25,
      "outputs": [
        {
          "output_type": "stream",
          "name": "stdout",
          "text": [
            "{'S002', 'S005', 'S007', 'S009', 'S001'}\n"
          ]
        }
      ]
    },
    {
      "cell_type": "markdown",
      "source": [
        "8. Write a Python program to create a dictionary from a string."
      ],
      "metadata": {
        "id": "dRE7YyOTd4Jk"
      }
    },
    {
      "cell_type": "code",
      "source": [
        "s = input()\n",
        "d = dict()\n",
        "for i in s:\n",
        "   if i not in d:\n",
        "      d[i]=0\n",
        "   d[i]+=1\n",
        "print(d)   "
      ],
      "metadata": {
        "colab": {
          "base_uri": "https://localhost:8080/"
        },
        "id": "aHi__ZXFd8tC",
        "outputId": "d5190f4a-f719-4a6c-a6f7-707eb427ad51"
      },
      "execution_count": 26,
      "outputs": [
        {
          "output_type": "stream",
          "name": "stdout",
          "text": [
            "helloworld\n",
            "{'h': 1, 'e': 1, 'l': 3, 'o': 2, 'w': 1, 'r': 1, 'd': 1}\n"
          ]
        }
      ]
    },
    {
      "cell_type": "markdown",
      "source": [
        "9. Write a Python program to print a dictionary in table format"
      ],
      "metadata": {
        "id": "aGYWTenmeBfw"
      }
    },
    {
      "cell_type": "code",
      "source": [
        "d = {1:1,2:3,3:4,4:5,5:6}\n",
        "print(\"Keys \\t\\tValues\")\n",
        "for i in d:\n",
        "   print(i,\"\\t\\t\",d[i])\n"
      ],
      "metadata": {
        "colab": {
          "base_uri": "https://localhost:8080/"
        },
        "id": "nS9VIx0zeWG2",
        "outputId": "fd90ae80-4820-445c-e4c5-a95160cfd201"
      },
      "execution_count": 41,
      "outputs": [
        {
          "output_type": "stream",
          "name": "stdout",
          "text": [
            "Keys \t\tValues\n",
            "1 \t\t 1\n",
            "2 \t\t 3\n",
            "3 \t\t 4\n",
            "4 \t\t 5\n",
            "5 \t\t 6\n"
          ]
        }
      ]
    },
    {
      "cell_type": "markdown",
      "source": [
        "10. Write a Python program to count the values associated with key in a\n",
        "dictionary"
      ],
      "metadata": {
        "id": "xDCJplrVe80B"
      }
    },
    {
      "cell_type": "code",
      "source": [
        "d = [{'id': 1, 'success': True, 'name': 'Lary'}, {'id': 2, 'success':\n",
        "False, 'name': 'Rabi'}, {'id': 3, 'success': True, 'name': 'Alex'}]\n",
        "c = 0\n",
        "for i in d:\n",
        "   for j in i.items():\n",
        "       if j==('success',True):\n",
        "          c+=1\n",
        "print(c)          "
      ],
      "metadata": {
        "colab": {
          "base_uri": "https://localhost:8080/"
        },
        "id": "Qn8ya3ZrfiK9",
        "outputId": "d16f1bc3-f3b7-4d64-e4b8-f467b1b1692b"
      },
      "execution_count": 29,
      "outputs": [
        {
          "output_type": "stream",
          "name": "stdout",
          "text": [
            "2\n"
          ]
        }
      ]
    },
    {
      "cell_type": "markdown",
      "source": [
        "11. Write a Python program to convert a list into a nested dictionary of keys."
      ],
      "metadata": {
        "id": "zhLShhlWgCjY"
      }
    },
    {
      "cell_type": "code",
      "source": [
        "a = [1, 2, 3, 4]\n",
        "d = c = {}\n",
        "for i in a:\n",
        "    c[i] = {}\n",
        "    c = c[i]\n",
        "print(d)  "
      ],
      "metadata": {
        "colab": {
          "base_uri": "https://localhost:8080/"
        },
        "id": "PVB2xJ7PgGHr",
        "outputId": "cbe246f3-c6a4-4a7c-8925-49bb98b58d42"
      },
      "execution_count": 34,
      "outputs": [
        {
          "output_type": "stream",
          "name": "stdout",
          "text": [
            "{1: {2: {3: {4: {}}}}}\n"
          ]
        }
      ]
    },
    {
      "cell_type": "markdown",
      "source": [
        "12. Write a Python program to check multiple keys exists in a dictionary."
      ],
      "metadata": {
        "id": "xo1ke8f8hzvN"
      }
    },
    {
      "cell_type": "code",
      "source": [
        "d = {1:1,1:3,1:4,2:3,4:5,6:5}\n",
        "a = int(input())\n",
        "if a not in d.keys():\n",
        "   print('Not exist')\n",
        "else:\n",
        "   print(\"Exist\")   \n",
        "       "
      ],
      "metadata": {
        "colab": {
          "base_uri": "https://localhost:8080/"
        },
        "id": "2agB8krah2vA",
        "outputId": "7d9bf33a-7cc7-49b7-8a0f-49c3f05b724c"
      },
      "execution_count": 38,
      "outputs": [
        {
          "output_type": "stream",
          "name": "stdout",
          "text": [
            "3\n",
            "Not exist\n"
          ]
        }
      ]
    },
    {
      "cell_type": "markdown",
      "source": [
        "13. Write a Python program to count number of items in a dictionary value\n",
        "that is a list.\n"
      ],
      "metadata": {
        "id": "mYsZSQ7Gi3Mw"
      }
    },
    {
      "cell_type": "code",
      "source": [
        "d = {'A' : [1, 2, 3, 4, 5, 6, 7, 8, 9],\n",
        "        'B' : 34,\n",
        "        'C' : 12,\n",
        "        'D' : [7, 8, 9, 6, 4] }\n",
        "a = 0\n",
        "for i in d:\n",
        "    if isinstance(d[i],list)==True:\n",
        "        a+=sum([len(d[i])]) \n",
        "print(a)               "
      ],
      "metadata": {
        "colab": {
          "base_uri": "https://localhost:8080/"
        },
        "id": "hMkYylpBi6A7",
        "outputId": "7e779d02-cb6b-4cc0-84fb-503e8580d6c8"
      },
      "execution_count": 40,
      "outputs": [
        {
          "output_type": "stream",
          "name": "stdout",
          "text": [
            "14\n"
          ]
        }
      ]
    }
  ]
}